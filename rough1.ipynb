{
 "cells": [
  {
   "cell_type": "code",
   "execution_count": 1,
   "id": "06f7ce73",
   "metadata": {},
   "outputs": [],
   "source": [
    "import ipywidgets as widgets"
   ]
  },
  {
   "cell_type": "code",
   "execution_count": 4,
   "id": "63dc003e",
   "metadata": {},
   "outputs": [],
   "source": [
    "w = widgets.IntSlider()"
   ]
  },
  {
   "cell_type": "code",
   "execution_count": 22,
   "id": "89487ffd",
   "metadata": {},
   "outputs": [
    {
     "data": {
      "text/plain": [
       "['_dom_classes',\n",
       " '_model_module',\n",
       " '_model_module_version',\n",
       " '_model_name',\n",
       " '_view_count',\n",
       " '_view_module',\n",
       " '_view_module_version',\n",
       " '_view_name',\n",
       " 'bar_style',\n",
       " 'description',\n",
       " 'description_tooltip',\n",
       " 'layout',\n",
       " 'max',\n",
       " 'min',\n",
       " 'orientation',\n",
       " 'style',\n",
       " 'value']"
      ]
     },
     "execution_count": 22,
     "metadata": {},
     "output_type": "execute_result"
    }
   ],
   "source": [
    "w.keys"
   ]
  },
  {
   "cell_type": "code",
   "execution_count": 23,
   "id": "15d2e173",
   "metadata": {},
   "outputs": [
    {
     "data": {
      "application/vnd.jupyter.widget-view+json": {
       "model_id": "a899dfa15c4d42a5b02fea56bcf51e0d",
       "version_major": 2,
       "version_minor": 0
      },
      "text/plain": [
       "Text(value='Hello World!', disabled=True)"
      ]
     },
     "metadata": {},
     "output_type": "display_data"
    }
   ],
   "source": [
    "widgets.Text(value='Hello World!', disabled=True)"
   ]
  },
  {
   "cell_type": "code",
   "execution_count": 24,
   "id": "4a103d9f",
   "metadata": {},
   "outputs": [
    {
     "data": {
      "application/vnd.jupyter.widget-view+json": {
       "model_id": "b26eee612f004395a5e88d07c6c5ce3a",
       "version_major": 2,
       "version_minor": 0
      },
      "text/plain": [
       "FloatText(value=0.0)"
      ]
     },
     "metadata": {},
     "output_type": "display_data"
    },
    {
     "data": {
      "application/vnd.jupyter.widget-view+json": {
       "model_id": "29539fe600c9440582fc675abd589cb9",
       "version_major": 2,
       "version_minor": 0
      },
      "text/plain": [
       "FloatSlider(value=0.0)"
      ]
     },
     "metadata": {},
     "output_type": "display_data"
    }
   ],
   "source": [
    "a = widgets.FloatText()\n",
    "b = widgets.FloatSlider()\n",
    "mylink = widgets.jslink((a, 'value'), (b, 'value'))\n",
    "display(a,b)"
   ]
  },
  {
   "cell_type": "markdown",
   "id": "87133b4b",
   "metadata": {},
   "source": [
    "## Int Slider"
   ]
  },
  {
   "cell_type": "code",
   "execution_count": 8,
   "id": "a28303ee",
   "metadata": {},
   "outputs": [
    {
     "data": {
      "application/vnd.jupyter.widget-view+json": {
       "model_id": "c9368901a6fd41359b12206f271619db",
       "version_major": 2,
       "version_minor": 0
      },
      "text/plain": [
       "IntSlider(value=7, continuous_update=False, description='Test:', max=10)"
      ]
     },
     "metadata": {},
     "output_type": "display_data"
    }
   ],
   "source": [
    "widgets.IntSlider(\n",
    "    value=7,\n",
    "    min=0,\n",
    "    max=10,\n",
    "    step=1,\n",
    "    description='Test:',\n",
    "    disabled=False,\n",
    "    continuous_update=False,\n",
    "    orientation='horizontal',\n",
    "    readout=True,\n",
    "    readout_format='d'\n",
    ")\n"
   ]
  },
  {
   "cell_type": "markdown",
   "id": "a495cc3c",
   "metadata": {},
   "source": [
    "## Float Slider"
   ]
  },
  {
   "cell_type": "code",
   "execution_count": 9,
   "id": "1cbd813e",
   "metadata": {},
   "outputs": [
    {
     "data": {
      "application/vnd.jupyter.widget-view+json": {
       "model_id": "cd92420c543644e4b18ab59a0a16718b",
       "version_major": 2,
       "version_minor": 0
      },
      "text/plain": [
       "FloatSlider(value=7.5, continuous_update=False, description='Test:', max=10.0, readout_format='.1f')"
      ]
     },
     "metadata": {},
     "output_type": "display_data"
    }
   ],
   "source": [
    "widgets.FloatSlider(\n",
    "    value=7.5,\n",
    "    min=0,\n",
    "    max=10.0,\n",
    "    step=0.1,\n",
    "    description='Test:',\n",
    "    disabled=False,\n",
    "    continuous_update=False,\n",
    "    orientation='horizontal',\n",
    "    readout=True,\n",
    "    readout_format='.1f',\n",
    ")"
   ]
  },
  {
   "cell_type": "markdown",
   "id": "759d0b47",
   "metadata": {},
   "source": [
    "## FloatLogSlider"
   ]
  },
  {
   "cell_type": "code",
   "execution_count": 10,
   "id": "4adbab37",
   "metadata": {},
   "outputs": [
    {
     "data": {
      "application/vnd.jupyter.widget-view+json": {
       "model_id": "857cadff718e468b89d0b6448d786413",
       "version_major": 2,
       "version_minor": 0
      },
      "text/plain": [
       "FloatLogSlider(value=10.0, description='Log Slider', max=5.0, readout_format='.3f', step=0.2)"
      ]
     },
     "metadata": {},
     "output_type": "display_data"
    }
   ],
   "source": [
    "widgets.FloatLogSlider(\n",
    "    value=10,\n",
    "    base=10,\n",
    "    min=0, # max exponent of base\n",
    "    max=5, # min exponent of base\n",
    "    step=0.2, # exponent step\n",
    "    description='Log Slider',\n",
    "    readout_format='.3f'\n",
    ")"
   ]
  },
  {
   "cell_type": "markdown",
   "id": "cb6d6a84",
   "metadata": {},
   "source": [
    "## IntProgressBar"
   ]
  },
  {
   "cell_type": "code",
   "execution_count": 11,
   "id": "bf0faeba",
   "metadata": {},
   "outputs": [
    {
     "data": {
      "application/vnd.jupyter.widget-view+json": {
       "model_id": "f5c0a30d8b104b368f9ab208750fcbe1",
       "version_major": 2,
       "version_minor": 0
      },
      "text/plain": [
       "IntProgress(value=7, bar_style='success', description='Loading:', max=10, style=ProgressStyle(bar_color='Green…"
      ]
     },
     "metadata": {},
     "output_type": "display_data"
    }
   ],
   "source": [
    "w = widgets.IntProgress(\n",
    "    value=7,\n",
    "    min=0,\n",
    "    max=10,\n",
    "    description='Loading:',\n",
    "    bar_style='success', # 'success', 'info', 'warning', 'danger' or ''\n",
    "    style={'bar_color': 'Green'},\n",
    "    orientation='horizontal'\n",
    ")\n",
    "w"
   ]
  },
  {
   "cell_type": "code",
   "execution_count": 12,
   "id": "d04e6341",
   "metadata": {},
   "outputs": [],
   "source": [
    "w.value = 4"
   ]
  },
  {
   "cell_type": "markdown",
   "id": "7f0e5fc0",
   "metadata": {},
   "source": [
    "### This is some rough text"
   ]
  },
  {
   "cell_type": "code",
   "execution_count": null,
   "id": "9e431513",
   "metadata": {},
   "outputs": [
    {
     "name": "stdout",
     "output_type": "stream",
     "text": [
      "0*0*0=0\n"
     ]
    },
    {
     "data": {
      "application/vnd.jupyter.widget-view+json": {
       "model_id": "04314a1165784d56bc0609755c4094fa",
       "version_major": 2,
       "version_minor": 0
      },
      "text/plain": [
       "HBox(children=(VBox(children=(IntSlider(value=0, description='a'), IntSlider(value=0, description='b'), IntSli…"
      ]
     },
     "metadata": {},
     "output_type": "display_data"
    }
   ],
   "source": [
    "a = widgets.IntSlider(description='a')\n",
    "b = widgets.IntSlider(description='b')\n",
    "c = widgets.IntSlider(description='c')\n",
    "def f(a, b, c):\n",
    "    print('{}*{}*{}={}'.format(a, b, c, a*b*c))\n",
    "\n",
    "out = widgets.interactive_output(f, {'a': a, 'b': b, 'c': c})\n",
    "\n",
    "widgets.HBox([widgets.VBox([a, b, c]), out])"
   ]
  },
  {
   "cell_type": "code",
   "execution_count": 14,
   "id": "2a79b6aa",
   "metadata": {},
   "outputs": [],
   "source": [
    "import numpy as np\n",
    "import matplotlib.pyplot as plt"
   ]
  },
  {
   "cell_type": "markdown",
   "id": "1421f448",
   "metadata": {},
   "source": [
    "## How to explain what the distribution means"
   ]
  },
  {
   "cell_type": "code",
   "execution_count": 15,
   "id": "f4b69760",
   "metadata": {},
   "outputs": [],
   "source": [
    "from ipywidgets import interact, interactive, fixed, interact_manual\n",
    "import ipywidgets as widgets\n",
    "\n",
    "def create_hist_uniform(x):\n",
    "    sampl = np.random.uniform(low=0, high=100, size=(int(x),))\n",
    "    plt.hist(sampl, bins = 10) \n",
    "    plt.title(\"histogram\") \n",
    "    plt.show()\n",
    "\n",
    "    \n",
    "def create_std_normal(x):\n",
    "    sampl = np.random.standard_normal(int(x))\n",
    "    plt.hist(sampl,bins=30) \n",
    "    plt.title(\"histogram\") \n",
    "    plt.show()\n",
    "    \n",
    "    \n",
    "# x=widgets.FloatLogSlider(value=10,base=10,min=0,readout_format='.3f')\n",
    "\n",
    "num_sampl = widgets.FloatLogSlider(\n",
    "    value=10,\n",
    "    min=0,\n",
    "    max=6,\n",
    "    base=10,\n",
    "    description='Number of Samples:',\n",
    "    disabled=False,\n",
    "    continuous_update=False,\n",
    "    orientation='horizontal',\n",
    "    readout=True,\n",
    "    readout_format='d',\n",
    "    style={'description_width': 'initial'}\n",
    ")"
   ]
  },
  {
   "cell_type": "markdown",
   "id": "228346d7",
   "metadata": {},
   "source": [
    "## Uniform Distribution"
   ]
  },
  {
   "cell_type": "code",
   "execution_count": null,
   "id": "db0475d8",
   "metadata": {},
   "outputs": [
    {
     "data": {
      "image/png": "[encoded data removed]",
      "text/plain": [
       "<Figure size 432x288 with 1 Axes>"
      ]
     },
     "metadata": {
      "needs_background": "light"
     },
     "output_type": "display_data"
    },
    {
     "data": {
      "text/plain": [
       "<function __main__.create_hist_uniform(x)>"
      ]
     },
     "execution_count": 16,
     "metadata": {},
     "output_type": "execute_result"
    }
   ],
   "source": [
    "interact(create_hist_uniform, x=num_sampl)"
   ]
  },
  {
   "cell_type": "markdown",
   "id": "a966aa87",
   "metadata": {},
   "source": [
    "## Normal Distribution"
   ]
  },
  {
   "cell_type": "code",
   "execution_count": null,
   "id": "e99eb232",
   "metadata": {},
   "outputs": [
    {
     "data": {
      "image/png": "[encoded data removed]",
      "text/plain": [
       "<Figure size 432x288 with 1 Axes>"
      ]
     },
     "metadata": {
      "needs_background": "light"
     },
     "output_type": "display_data"
    },
    {
     "data": {
      "text/plain": [
       "<function __main__.create_std_normal(x)>"
      ]
     },
     "execution_count": 17,
     "metadata": {},
     "output_type": "execute_result"
    }
   ],
   "source": [
    "interact(create_std_normal, x=num_sampl)"
   ]
  },
  {
   "cell_type": "markdown",
   "id": "5a7d15a5",
   "metadata": {},
   "source": [
    "## Binomial Distribution"
   ]
  },
  {
   "cell_type": "code",
   "execution_count": 18,
   "id": "a0c71b06",
   "metadata": {
    "scrolled": true
   },
   "outputs": [],
   "source": [
    "####################################################################################################\n",
    "# Making the widgets\n",
    "prob_success = widgets.FloatSlider(\n",
    "    value=0.5,\n",
    "    min=0,\n",
    "    max=1,\n",
    "    step=0.1,\n",
    "    description='Probability of success:',\n",
    "    disabled=False,\n",
    "    continuous_update=False,\n",
    "    orientation='horizontal',\n",
    "    readout=True,\n",
    "    readout_format='.1f',\n",
    "    style={'description_width': 'initial'}\n",
    "\n",
    ")\n",
    "\n",
    "num_trials = widgets.IntSlider(\n",
    "    value=500,\n",
    "    min=1,\n",
    "    max=1000,\n",
    "    step=1,\n",
    "    description='Number of Trials:',\n",
    "    disabled=False,\n",
    "    continuous_update=False,\n",
    "    orientation='horizontal',\n",
    "    readout=True,\n",
    "    readout_format='d',\n",
    "    style={'description_width': 'initial'}\n",
    ")\n",
    "\n",
    "num_success = widgets.IntSlider(\n",
    "    value=5000,\n",
    "    min=10,\n",
    "    max=100000,\n",
    "    step=500,\n",
    "    description='Number of Successes:',\n",
    "    disabled=False,\n",
    "    continuous_update=False,\n",
    "    orientation='horizontal',\n",
    "    readout=True,\n",
    "    readout_format='d',\n",
    "    style={'description_width': 'initial'}\n",
    ")\n",
    "\n",
    "####################################################################################################\n",
    "\n",
    "def create_binomial(prob_success,num_trials,num_success):\n",
    "    sampl = np.random.binomial(num_trials,prob_success,num_success)\n",
    "    plt.hist(sampl,bins=20) \n",
    "    plt.title(\"histogram\") \n",
    "    plt.show()\n",
    "####################################################################################################"
   ]
  },
  {
   "cell_type": "code",
   "execution_count": null,
   "id": "29da6283",
   "metadata": {},
   "outputs": [
    {
     "data": {
      "image/png": "[encoded data removed]",
      "text/plain": [
       "<Figure size 432x288 with 1 Axes>"
      ]
     },
     "metadata": {
      "needs_background": "light"
     },
     "output_type": "display_data"
    }
   ],
   "source": [
    "interactive_plot = interactive(create_binomial,prob_success=prob_success,num_trials=num_trials,num_success=num_success )\n",
    "interactive_plot"
   ]
  },
  {
   "cell_type": "markdown",
   "id": "dd51b395",
   "metadata": {},
   "source": [
    "## Chi-Square Distribution"
   ]
  },
  {
   "cell_type": "code",
   "execution_count": 20,
   "id": "e5017821",
   "metadata": {},
   "outputs": [],
   "source": [
    "df = widgets.IntSlider(\n",
    "    value=1,\n",
    "    min=1,\n",
    "    max=10,\n",
    "    step=1,\n",
    "    description='Degree of Freedom:',\n",
    "    disabled=False,\n",
    "    continuous_update=False,\n",
    "    orientation='horizontal',\n",
    "    readout=True,\n",
    "    readout_format='d',\n",
    "    style={'description_width': 'initial'}\n",
    ")\n",
    "\n",
    "size = widgets.IntSlider(\n",
    "    value=100,\n",
    "    min=10,\n",
    "    max=1000,\n",
    "    step=50,\n",
    "    description='Size of samples:',\n",
    "    disabled=False,\n",
    "    continuous_update=False,\n",
    "    orientation='horizontal',\n",
    "    readout=True,\n",
    "    readout_format='d',\n",
    "    style={'description_width': 'initial'}\n",
    ")\n",
    "####################################################################################################\n",
    "\n",
    "def create_chi_square(df,size):\n",
    "    sampl = np.random.chisquare(df, size)\n",
    "    plt.hist(sampl,bins=10) \n",
    "    plt.title(\"histogram\") \n",
    "    plt.show()\n",
    "    \n",
    "####################################################################################################\n"
   ]
  },
  {
   "cell_type": "code",
   "execution_count": null,
   "id": "5b79e8b4",
   "metadata": {
    "scrolled": true
   },
   "outputs": [
    {
     "data": {
      "image/png": "[encoded data removed]",
      "text/plain": [
       "<Figure size 432x288 with 1 Axes>"
      ]
     },
     "metadata": {
      "needs_background": "light"
     },
     "output_type": "display_data"
    }
   ],
   "source": [
    "interactive_plot = interactive(create_chi_square,df=df,size=size)\n",
    "interactive_plot"
   ]
  },
  {
   "cell_type": "code",
   "execution_count": 22,
   "id": "cc8f02c9",
   "metadata": {},
   "outputs": [],
   "source": []
  },
  {
   "cell_type": "code",
   "execution_count": 22,
   "id": "e17d7d25",
   "metadata": {},
   "outputs": [],
   "source": []
  },
  {
   "cell_type": "code",
   "execution_count": 22,
   "id": "3301abc5",
   "metadata": {},
   "outputs": [],
   "source": []
  },
  {
   "cell_type": "code",
   "execution_count": 22,
   "id": "03b41209",
   "metadata": {},
   "outputs": [],
   "source": []
  }
 ],
 "metadata": {
  "kernelspec": {
   "display_name": "Python 3 (ipykernel)",
   "language": "python",
   "name": "python3"
  },
  "language_info": {
   "codemirror_mode": {
    "name": "ipython",
    "version": 3
   },
   "file_extension": ".py",
   "mimetype": "text/x-python",
   "name": "python",
   "nbconvert_exporter": "python",
   "pygments_lexer": "ipython3",
   "version": "3.7.11"
  },
  "nteract": {
   "version": "nteract-on-jupyter@2.1.3"
  }
 },
 "nbformat": 4,
 "nbformat_minor": 5
}

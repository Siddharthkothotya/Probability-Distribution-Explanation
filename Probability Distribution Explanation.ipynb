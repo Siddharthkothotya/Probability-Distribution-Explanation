{
 "cells": [
  {
   "cell_type": "markdown",
   "id": "d0d4917e",
   "metadata": {},
   "source": [
    "[![Binder](https://mybinder.org/badge_logo.svg)](https://mybinder.org/v2/gh/Siddharthkothotya/Probability-Distribution-Explanation/HEAD?labpath=Probability%20Distribution%20Explanation.ipynb)"
   ]
  },
  {
   "cell_type": "markdown",
   "id": "da0d2d5d",
   "metadata": {},
   "source": [
    "## How to explain what the distribution means"
   ]
  },
  {
   "cell_type": "code",
   "execution_count": 5,
   "id": "1eedac44",
   "metadata": {},
   "outputs": [],
   "source": [
    "from ipywidgets import interact, interactive\n",
    "import ipywidgets as widgets\n",
    "import numpy as np\n",
    "import matplotlib.pyplot as plt"
   ]
  },
  {
   "cell_type": "code",
   "execution_count": 16,
   "id": "5b0a5da7",
   "metadata": {},
   "outputs": [],
   "source": [
    "def create_hist_uniform(x):\n",
    "    sampl = np.random.uniform(low=0, high=100, size=(int(x),))\n",
    "    plt.hist(sampl, bins = 10) \n",
    "    plt.title(\"histogram\") \n",
    "    plt.show()\n",
    "\n",
    "\n",
    "num_sampl = widgets.FloatLogSlider(\n",
    "    value=10,\n",
    "    min=0,\n",
    "    max=6,\n",
    "    base=10,\n",
    "    description='Number of Samples:',\n",
    "    disabled=False,\n",
    "    continuous_update=False,\n",
    "    orientation='horizontal',\n",
    "    readout=True,\n",
    "    readout_format='d',\n",
    "    style={'description_width': 'initial'}\n",
    ")"
   ]
  },
  {
   "cell_type": "markdown",
   "id": "7a0027b3",
   "metadata": {},
   "source": [
    "## Uniform Distribution"
   ]
  },
  {
   "cell_type": "code",
   "execution_count": 17,
   "id": "63bd50bf",
   "metadata": {},
   "outputs": [
    {
     "data": {
      "application/vnd.jupyter.widget-view+json": {
       "model_id": "f23b854ed48549c690d85eedb6041c92",
       "version_major": 2,
       "version_minor": 0
      },
      "text/plain": [
       "interactive(children=(FloatLogSlider(value=10.0, continuous_update=False, description='Number of Samples:', ma…"
      ]
     },
     "metadata": {},
     "output_type": "display_data"
    },
    {
     "data": {
      "text/plain": [
       "<function __main__.create_hist_uniform(x)>"
      ]
     },
     "execution_count": 17,
     "metadata": {},
     "output_type": "execute_result"
    }
   ],
   "source": [
    "interact(create_hist_uniform, x=num_sampl)"
   ]
  },
  {
   "cell_type": "code",
   "execution_count": 14,
   "id": "d37bd224",
   "metadata": {},
   "outputs": [],
   "source": [
    "def create_std_normal(x):\n",
    "    sampl = np.random.standard_normal(int(x))\n",
    "    plt.hist(sampl,bins=30) \n",
    "    plt.title(\"histogram\") \n",
    "    plt.show()\n",
    "    \n",
    "    \n",
    "# x=widgets.FloatLogSlider(value=10,base=10,min=0,readout_format='.3f')\n",
    "\n",
    "num_sampl_nom = widgets.FloatLogSlider(\n",
    "    value=10,\n",
    "    min=0,\n",
    "    max=6,\n",
    "    base=10,\n",
    "    description='Number of Samples:',\n",
    "    disabled=False,\n",
    "    continuous_update=False,\n",
    "    orientation='horizontal',\n",
    "    readout=True,\n",
    "    readout_format='d',\n",
    "    style={'description_width': 'initial'}\n",
    ")"
   ]
  },
  {
   "cell_type": "markdown",
   "id": "fef97864",
   "metadata": {},
   "source": [
    "## Normal Distribution"
   ]
  },
  {
   "cell_type": "code",
   "execution_count": 15,
   "id": "477c662a",
   "metadata": {},
   "outputs": [
    {
     "data": {
      "application/vnd.jupyter.widget-view+json": {
       "model_id": "0156cf5460824b55b49600d1a867ca92",
       "version_major": 2,
       "version_minor": 0
      },
      "text/plain": [
       "interactive(children=(FloatLogSlider(value=10.0, continuous_update=False, description='Number of Samples:', ma…"
      ]
     },
     "metadata": {},
     "output_type": "display_data"
    },
    {
     "data": {
      "text/plain": [
       "<function __main__.create_std_normal(x)>"
      ]
     },
     "execution_count": 15,
     "metadata": {},
     "output_type": "execute_result"
    }
   ],
   "source": [
    "interact(create_std_normal, x=num_sampl_nom)"
   ]
  },
  {
   "cell_type": "markdown",
   "id": "e62aa699",
   "metadata": {},
   "source": [
    "## Binomial Distribution"
   ]
  },
  {
   "cell_type": "code",
   "execution_count": 18,
   "id": "67331198",
   "metadata": {
    "scrolled": true
   },
   "outputs": [],
   "source": [
    "####################################################################################################\n",
    "# Making the widgets\n",
    "prob_success = widgets.FloatSlider(\n",
    "    value=0.5,\n",
    "    min=0,\n",
    "    max=1,\n",
    "    step=0.1,\n",
    "    description='Probability of success:',\n",
    "    disabled=False,\n",
    "    continuous_update=False,\n",
    "    orientation='horizontal',\n",
    "    readout=True,\n",
    "    readout_format='.1f',\n",
    "    style={'description_width': 'initial'}\n",
    "\n",
    ")\n",
    "\n",
    "num_trials = widgets.IntSlider(\n",
    "    value=500,\n",
    "    min=1,\n",
    "    max=1000,\n",
    "    step=1,\n",
    "    description='Number of Trials:',\n",
    "    disabled=False,\n",
    "    continuous_update=False,\n",
    "    orientation='horizontal',\n",
    "    readout=True,\n",
    "    readout_format='d',\n",
    "    style={'description_width': 'initial'}\n",
    ")\n",
    "\n",
    "num_success = widgets.IntSlider(\n",
    "    value=5000,\n",
    "    min=10,\n",
    "    max=100000,\n",
    "    step=500,\n",
    "    description='Number of Successes:',\n",
    "    disabled=False,\n",
    "    continuous_update=False,\n",
    "    orientation='horizontal',\n",
    "    readout=True,\n",
    "    readout_format='d',\n",
    "    style={'description_width': 'initial'}\n",
    ")\n",
    "\n",
    "####################################################################################################\n",
    "\n",
    "def create_binomial(prob_success,num_trials,num_success):\n",
    "    sampl = np.random.binomial(num_trials,prob_success,num_success)\n",
    "    plt.hist(sampl,bins=20) \n",
    "    plt.title(\"histogram\") \n",
    "    plt.show()\n",
    "####################################################################################################"
   ]
  },
  {
   "cell_type": "code",
   "execution_count": 19,
   "id": "99c91063",
   "metadata": {},
   "outputs": [
    {
     "data": {
      "application/vnd.jupyter.widget-view+json": {
       "model_id": "a4b1357abc414827b008b35ad6c1a287",
       "version_major": 2,
       "version_minor": 0
      },
      "text/plain": [
       "interactive(children=(FloatSlider(value=0.5, continuous_update=False, description='Probability of success:', m…"
      ]
     },
     "metadata": {},
     "output_type": "display_data"
    }
   ],
   "source": [
    "interactive_plot = interactive(create_binomial,prob_success=prob_success,num_trials=num_trials,num_success=num_success )\n",
    "interactive_plot"
   ]
  },
  {
   "cell_type": "markdown",
   "id": "d0a4bc9e",
   "metadata": {},
   "source": [
    "## Chi-Square Distribution"
   ]
  },
  {
   "cell_type": "code",
   "execution_count": 20,
   "id": "275bcddd",
   "metadata": {},
   "outputs": [],
   "source": [
    "df = widgets.IntSlider(\n",
    "    value=1,\n",
    "    min=1,\n",
    "    max=10,\n",
    "    step=1,\n",
    "    description='Degree of Freedom:',\n",
    "    disabled=False,\n",
    "    continuous_update=False,\n",
    "    orientation='horizontal',\n",
    "    readout=True,\n",
    "    readout_format='d',\n",
    "    style={'description_width': 'initial'}\n",
    ")\n",
    "\n",
    "size = widgets.IntSlider(\n",
    "    value=100,\n",
    "    min=10,\n",
    "    max=1000,\n",
    "    step=50,\n",
    "    description='Size of samples:',\n",
    "    disabled=False,\n",
    "    continuous_update=False,\n",
    "    orientation='horizontal',\n",
    "    readout=True,\n",
    "    readout_format='d',\n",
    "    style={'description_width': 'initial'}\n",
    ")\n",
    "####################################################################################################\n",
    "\n",
    "def create_chi_square(df,size):\n",
    "    sampl = np.random.chisquare(df, size)\n",
    "    plt.hist(sampl,bins=10) \n",
    "    plt.title(\"histogram\") \n",
    "    plt.show()\n",
    "    \n",
    "####################################################################################################\n"
   ]
  },
  {
   "cell_type": "code",
   "execution_count": 21,
   "id": "7ef24ec6",
   "metadata": {
    "scrolled": true
   },
   "outputs": [
    {
     "data": {
      "application/vnd.jupyter.widget-view+json": {
       "model_id": "8ef1a572249e4a6787d7ccd58518ec2c",
       "version_major": 2,
       "version_minor": 0
      },
      "text/plain": [
       "interactive(children=(IntSlider(value=1, continuous_update=False, description='Degree of Freedom:', max=10, mi…"
      ]
     },
     "metadata": {},
     "output_type": "display_data"
    }
   ],
   "source": [
    "interactive_plot = interactive(create_chi_square,df=df,size=size)\n",
    "interactive_plot"
   ]
  },
  {
   "cell_type": "code",
   "execution_count": null,
   "id": "5fa8e841",
   "metadata": {},
   "outputs": [],
   "source": []
  }
 ],
 "metadata": {
  "kernelspec": {
   "display_name": "Python 3 (ipykernel)",
   "language": "python",
   "name": "python3"
  },
  "language_info": {
   "codemirror_mode": {
    "name": "ipython",
    "version": 3
   },
   "file_extension": ".py",
   "mimetype": "text/x-python",
   "name": "python",
   "nbconvert_exporter": "python",
   "pygments_lexer": "ipython3",
   "version": "3.9.7"
  }
 },
 "nbformat": 4,
 "nbformat_minor": 5
}

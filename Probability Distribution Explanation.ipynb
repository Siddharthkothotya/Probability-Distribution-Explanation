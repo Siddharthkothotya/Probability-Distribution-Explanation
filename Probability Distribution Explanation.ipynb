{
 "cells": [
  {
   "cell_type": "markdown",
   "id": "d0d4917e",
   "metadata": {},
   "source": [
    "## How to explain what the distribution means"
   ]
  },
  {
   "cell_type": "code",
   "execution_count": 1,
   "id": "1eedac44",
   "metadata": {},
   "outputs": [],
   "source": [
    "from ipywidgets import interact, interactive\n",
    "import ipywidgets as widgets\n",
    "import numpy as np\n",
    "import matplotlib.pyplot as plt"
   ]
  },
  {
   "cell_type": "code",
   "execution_count": 2,
   "id": "5b0a5da7",
   "metadata": {},
   "outputs": [],
   "source": [
    "def create_hist_uniform(x):\n",
    "    sampl = np.random.uniform(low=0, high=100, size=(int(x),))\n",
    "    plt.hist(sampl, bins = 10) \n",
    "    plt.title(\"histogram\") \n",
    "    plt.show()\n",
    "\n",
    "\n",
    "num_sampl = widgets.FloatLogSlider(\n",
    "    value=10,\n",
    "    min=0,\n",
    "    max=6,\n",
    "    base=10,\n",
    "    description='Number of Samples:',\n",
    "    disabled=False,\n",
    "    continuous_update=False,\n",
    "    orientation='horizontal',\n",
    "    readout=True,\n",
    "    readout_format='d',\n",
    "    style={'description_width': 'initial'}\n",
    ")"
   ]
  },
  {
   "cell_type": "markdown",
   "id": "7a0027b3",
   "metadata": {},
   "source": [
    "## Uniform Distribution"
   ]
  },
  {
   "cell_type": "code",
   "execution_count": 3,
   "id": "63bd50bf",
   "metadata": {},
   "outputs": [
    {
     "data": {
      "application/vnd.jupyter.widget-view+json": {
       "model_id": "b1c55b1e47a649c2adc62d4d694965ab",
       "version_major": 2,
       "version_minor": 0
      },
      "text/plain": [
       "interactive(children=(FloatLogSlider(value=10.0, continuous_update=False, description='Number of Samples:', ma…"
      ]
     },
     "metadata": {},
     "output_type": "display_data"
    },
    {
     "data": {
      "text/plain": [
       "<function __main__.create_hist_uniform(x)>"
      ]
     },
     "execution_count": 3,
     "metadata": {},
     "output_type": "execute_result"
    }
   ],
   "source": [
    "interact(create_hist_uniform, x=num_sampl)"
   ]
  },
  {
   "cell_type": "code",
   "execution_count": 4,
   "id": "d37bd224",
   "metadata": {},
   "outputs": [],
   "source": [
    "def create_std_normal(x):\n",
    "    sampl = np.random.standard_normal(int(x))\n",
    "    plt.hist(sampl,bins=30) \n",
    "    plt.title(\"histogram\") \n",
    "    plt.show()\n",
    "    \n",
    "    \n",
    "# x=widgets.FloatLogSlider(value=10,base=10,min=0,readout_format='.3f')\n",
    "\n",
    "num_sampl_nom = widgets.FloatLogSlider(\n",
    "    value=10,\n",
    "    min=0,\n",
    "    max=6,\n",
    "    base=10,\n",
    "    description='Number of Samples:',\n",
    "    disabled=False,\n",
    "    continuous_update=False,\n",
    "    orientation='horizontal',\n",
    "    readout=True,\n",
    "    readout_format='d',\n",
    "    style={'description_width': 'initial'}\n",
    ")"
   ]
  },
  {
   "cell_type": "markdown",
   "id": "fef97864",
   "metadata": {},
   "source": [
    "## Normal Distribution"
   ]
  },
  {
   "cell_type": "code",
   "execution_count": 5,
   "id": "477c662a",
   "metadata": {},
   "outputs": [
    {
     "data": {
      "application/vnd.jupyter.widget-view+json": {
       "model_id": "80ebbe9affca40d1b8f6bc77a40edb99",
       "version_major": 2,
       "version_minor": 0
      },
      "text/plain": [
       "interactive(children=(FloatLogSlider(value=10.0, continuous_update=False, description='Number of Samples:', ma…"
      ]
     },
     "metadata": {},
     "output_type": "display_data"
    },
    {
     "data": {
      "text/plain": [
       "<function __main__.create_std_normal(x)>"
      ]
     },
     "execution_count": 5,
     "metadata": {},
     "output_type": "execute_result"
    }
   ],
   "source": [
    "interact(create_std_normal, x=num_sampl_nom)"
   ]
  },
  {
   "cell_type": "markdown",
   "id": "e62aa699",
   "metadata": {},
   "source": [
    "## Binomial Distribution"
   ]
  },
  {
   "cell_type": "code",
   "execution_count": 6,
   "id": "67331198",
   "metadata": {
    "scrolled": true
   },
   "outputs": [],
   "source": [
    "####################################################################################################\n",
    "# Making the widgets\n",
    "prob_success = widgets.FloatSlider(\n",
    "    value=0.5,\n",
    "    min=0,\n",
    "    max=1,\n",
    "    step=0.1,\n",
    "    description='Probability of success:',\n",
    "    disabled=False,\n",
    "    continuous_update=False,\n",
    "    orientation='horizontal',\n",
    "    readout=True,\n",
    "    readout_format='.1f',\n",
    "    style={'description_width': 'initial'}\n",
    "\n",
    ")\n",
    "\n",
    "num_trials = widgets.IntSlider(\n",
    "    value=500,\n",
    "    min=1,\n",
    "    max=1000,\n",
    "    step=1,\n",
    "    description='Number of Trials:',\n",
    "    disabled=False,\n",
    "    continuous_update=False,\n",
    "    orientation='horizontal',\n",
    "    readout=True,\n",
    "    readout_format='d',\n",
    "    style={'description_width': 'initial'}\n",
    ")\n",
    "\n",
    "num_success = widgets.IntSlider(\n",
    "    value=5000,\n",
    "    min=10,\n",
    "    max=100000,\n",
    "    step=500,\n",
    "    description='Number of Successes:',\n",
    "    disabled=False,\n",
    "    continuous_update=False,\n",
    "    orientation='horizontal',\n",
    "    readout=True,\n",
    "    readout_format='d',\n",
    "    style={'description_width': 'initial'}\n",
    ")\n",
    "\n",
    "####################################################################################################\n",
    "\n",
    "def create_binomial(prob_success,num_trials,num_success):\n",
    "    sampl = np.random.binomial(num_trials,prob_success,num_success)\n",
    "    plt.hist(sampl,bins=20) \n",
    "    plt.title(\"histogram\") \n",
    "    plt.show()\n",
    "####################################################################################################"
   ]
  },
  {
   "cell_type": "code",
   "execution_count": 7,
   "id": "99c91063",
   "metadata": {},
   "outputs": [
    {
     "data": {
      "application/vnd.jupyter.widget-view+json": {
       "model_id": "9b0674e0966d48e3bc7db06fc13b9683",
       "version_major": 2,
       "version_minor": 0
      },
      "text/plain": [
       "interactive(children=(FloatSlider(value=0.5, continuous_update=False, description='Probability of success:', m…"
      ]
     },
     "metadata": {},
     "output_type": "display_data"
    }
   ],
   "source": [
    "interactive_plot = interactive(create_binomial,prob_success=prob_success,num_trials=num_trials,num_success=num_success )\n",
    "interactive_plot"
   ]
  },
  {
   "cell_type": "markdown",
   "id": "d0a4bc9e",
   "metadata": {},
   "source": [
    "## Chi-Square Distribution"
   ]
  },
  {
   "cell_type": "code",
   "execution_count": 8,
   "id": "275bcddd",
   "metadata": {},
   "outputs": [],
   "source": [
    "df = widgets.IntSlider(\n",
    "    value=1,\n",
    "    min=1,\n",
    "    max=10,\n",
    "    step=1,\n",
    "    description='Degree of Freedom:',\n",
    "    disabled=False,\n",
    "    continuous_update=False,\n",
    "    orientation='horizontal',\n",
    "    readout=True,\n",
    "    readout_format='d',\n",
    "    style={'description_width': 'initial'}\n",
    ")\n",
    "\n",
    "size = widgets.IntSlider(\n",
    "    value=100,\n",
    "    min=10,\n",
    "    max=1000,\n",
    "    step=50,\n",
    "    description='Size of samples:',\n",
    "    disabled=False,\n",
    "    continuous_update=False,\n",
    "    orientation='horizontal',\n",
    "    readout=True,\n",
    "    readout_format='d',\n",
    "    style={'description_width': 'initial'}\n",
    ")\n",
    "####################################################################################################\n",
    "\n",
    "def create_chi_square(df,size):\n",
    "    sampl = np.random.chisquare(df, size)\n",
    "    plt.hist(sampl,bins=10) \n",
    "    plt.title(\"histogram\") \n",
    "    plt.show()\n",
    "    \n",
    "####################################################################################################\n"
   ]
  },
  {
   "cell_type": "code",
   "execution_count": 9,
   "id": "7ef24ec6",
   "metadata": {
    "scrolled": true
   },
   "outputs": [
    {
     "data": {
      "application/vnd.jupyter.widget-view+json": {
       "model_id": "47967aa8cf9840caa401fc49ebfa53c5",
       "version_major": 2,
       "version_minor": 0
      },
      "text/plain": [
       "interactive(children=(IntSlider(value=1, continuous_update=False, description='Degree of Freedom:', max=10, mi…"
      ]
     },
     "metadata": {},
     "output_type": "display_data"
    }
   ],
   "source": [
    "interactive_plot = interactive(create_chi_square,df=df,size=size)\n",
    "interactive_plot"
   ]
  },
  {
   "cell_type": "markdown",
   "id": "f02ffe6d",
   "metadata": {},
   "source": [
    "## Exponential "
   ]
  },
  {
   "cell_type": "code",
   "execution_count": 17,
   "id": "714b52b8",
   "metadata": {},
   "outputs": [],
   "source": [
    "def create_expo(x,y):\n",
    "#     sampl = np.random.standard_normal(int(x))\n",
    "    sampl = np.random.exponential(scale=x, size=int(y))\n",
    "    plt.hist(sampl,bins=30) \n",
    "    plt.title(\"histogram\") \n",
    "    plt.show()\n",
    "    \n",
    "    \n",
    "# x=widgets.FloatLogSlider(value=10,base=10,min=0,readout_format='.3f')\n",
    "\n",
    "expo_sampl = widgets.FloatLogSlider(\n",
    "    value=10,\n",
    "    min=0,\n",
    "    max=6,\n",
    "    base=10,\n",
    "    description='Number of Samples:',\n",
    "    disabled=False,\n",
    "    continuous_update=False,\n",
    "    orientation='horizontal',\n",
    "    readout=True,\n",
    "    readout_format='d',\n",
    "    style={'description_width': 'initial'}\n",
    ")\n",
    "\n",
    "expo_scale = widgets.FloatSlider(\n",
    "    value=7.5,\n",
    "    min=0,\n",
    "    max=1,\n",
    "    step=0.1,\n",
    "    description='Scale:',\n",
    "    disabled=False,\n",
    "    continuous_update=False,\n",
    "    orientation='horizontal',\n",
    "    readout=True,\n",
    "    readout_format='.1f',\n",
    "    style={'description_width': 'initial'}\n",
    ")\n"
   ]
  },
  {
   "cell_type": "code",
   "execution_count": 31,
   "id": "ceb14cd0",
   "metadata": {},
   "outputs": [
    {
     "data": {
      "application/vnd.jupyter.widget-view+json": {
       "model_id": "eb06cb8480324248811c184fcd3531d4",
       "version_major": 2,
       "version_minor": 0
      },
      "text/plain": [
       "interactive(children=(FloatSlider(value=0.3, continuous_update=False, description='Scale:', max=1.0, readout_f…"
      ]
     },
     "metadata": {},
     "output_type": "display_data"
    }
   ],
   "source": [
    "interactive_plot = interactive(create_expo,x=expo_scale,y=expo_sampl)\n",
    "interactive_plot"
   ]
  },
  {
   "cell_type": "markdown",
   "id": "1b1b1e59",
   "metadata": {},
   "source": [
    "## Beta Distribution"
   ]
  },
  {
   "cell_type": "code",
   "execution_count": 29,
   "id": "91ec3ab9",
   "metadata": {},
   "outputs": [],
   "source": [
    "def create_beta(x,y,z):\n",
    "#     sampl = np.random.standard_normal(int(x))\n",
    "#     sampl = np.random.exponential(scale=x, size=int(y))\n",
    "    sampl = np.random.beta(x, y, size=int(z))\n",
    "    plt.hist(sampl,bins=30) \n",
    "    plt.title(\"histogram\") \n",
    "    plt.show()\n",
    "    \n",
    "    \n",
    "# x=widgets.FloatLogSlider(value=10,base=10,min=0,readout_format='.3f')\n",
    "\n",
    "\n",
    "a = widgets.FloatSlider(\n",
    "    value=5,\n",
    "    min=0,\n",
    "    max=100,\n",
    "    step=1,\n",
    "    description='A:',\n",
    "    disabled=False,\n",
    "    continuous_update=False,\n",
    "    orientation='horizontal',\n",
    "    readout=True,\n",
    "    readout_format='.1f',\n",
    "    style={'description_width': 'initial'}\n",
    ")\n",
    "\n",
    "b = widgets.FloatSlider(\n",
    "    value=5,\n",
    "    min=0,\n",
    "    max=100,\n",
    "    step=1,\n",
    "    description='B:',\n",
    "    disabled=False,\n",
    "    continuous_update=False,\n",
    "    orientation='horizontal',\n",
    "    readout=True,\n",
    "    readout_format='.1f',\n",
    "    style={'description_width': 'initial'}\n",
    ")\n",
    "\n",
    "\n",
    "size = widgets.FloatLogSlider(\n",
    "    value=10,\n",
    "    min=0,\n",
    "    max=6,\n",
    "    base=10,\n",
    "    description='Size:',\n",
    "    disabled=False,\n",
    "    continuous_update=False,\n",
    "    orientation='horizontal',\n",
    "    readout=True,\n",
    "    readout_format='d',\n",
    "    style={'description_width': 'initial'}\n",
    ")\n"
   ]
  },
  {
   "cell_type": "code",
   "execution_count": 30,
   "id": "f75b3419",
   "metadata": {},
   "outputs": [
    {
     "data": {
      "application/vnd.jupyter.widget-view+json": {
       "model_id": "49f91e1e347d438c9e57793c16328ae5",
       "version_major": 2,
       "version_minor": 0
      },
      "text/plain": [
       "interactive(children=(FloatSlider(value=5.0, continuous_update=False, description='A:', readout_format='.1f', …"
      ]
     },
     "metadata": {},
     "output_type": "display_data"
    }
   ],
   "source": [
    "interactive_plot = interactive(create_beta,x=a,y=b,z=size)\n",
    "interactive_plot"
   ]
  },
  {
   "cell_type": "code",
   "execution_count": 24,
   "id": "d3590a5c",
   "metadata": {},
   "outputs": [
    {
     "data": {
      "text/plain": [
       "array([0.50731428, 0.31156881, 0.56863377, 0.63715945, 0.41774153,\n",
       "       0.87793351, 0.32761185, 0.21857055, 0.62054027, 0.64959083])"
      ]
     },
     "execution_count": 24,
     "metadata": {},
     "output_type": "execute_result"
    }
   ],
   "source": [
    "np.random.beta(5,5,10)"
   ]
  },
  {
   "cell_type": "markdown",
   "id": "485439e7",
   "metadata": {},
   "source": [
    "## Poisson"
   ]
  },
  {
   "cell_type": "code",
   "execution_count": 43,
   "id": "0f6c9993",
   "metadata": {},
   "outputs": [],
   "source": [
    "def create_poisson(x,y):\n",
    "    sampl = np.random.poisson(lam=x, size=int(y))\n",
    "#     sampl = np.random.exponential(scale=x, size=int(y))\n",
    "    plt.hist(sampl,bins=30) \n",
    "    plt.title(\"histogram\") \n",
    "    plt.show()\n",
    "    \n",
    "    \n",
    "x = widgets.FloatLogSlider(\n",
    "    value=10,\n",
    "    min=0,\n",
    "    max=6,\n",
    "    base=10,\n",
    "    description='lam',\n",
    "    disabled=False,\n",
    "    continuous_update=False,\n",
    "    orientation='horizontal',\n",
    "    readout=True,\n",
    "    readout_format='d',\n",
    "    style={'description_width': 'initial'}\n",
    ")\n",
    "\n",
    "size = widgets.FloatLogSlider(\n",
    "    value=10,\n",
    "    min=0,\n",
    "    max=6,\n",
    "    base=10,\n",
    "    description='size',\n",
    "    disabled=False,\n",
    "    continuous_update=False,\n",
    "    orientation='horizontal',\n",
    "    readout=True,\n",
    "    readout_format='d',\n",
    "    style={'description_width': 'initial'}\n",
    ")\n",
    "\n"
   ]
  },
  {
   "cell_type": "code",
   "execution_count": 45,
   "id": "1bed52dc",
   "metadata": {},
   "outputs": [
    {
     "data": {
      "application/vnd.jupyter.widget-view+json": {
       "model_id": "074deb0fea544f23b41e66dc1d5897dc",
       "version_major": 2,
       "version_minor": 0
      },
      "text/plain": [
       "interactive(children=(FloatLogSlider(value=501.18723362727246, continuous_update=False, description='lam', max…"
      ]
     },
     "metadata": {},
     "output_type": "display_data"
    }
   ],
   "source": [
    "interactive_plot = interactive(create_poisson,x=x,y=size)\n",
    "interactive_plot"
   ]
  },
  {
   "cell_type": "markdown",
   "id": "a5a82beb",
   "metadata": {},
   "source": [
    "## Pareto"
   ]
  },
  {
   "cell_type": "code",
   "execution_count": 46,
   "id": "d28a0da6",
   "metadata": {},
   "outputs": [],
   "source": [
    "def create_pareto(x,y):\n",
    "    sampl = np.random.pareto(a=x, size=int(y))\n",
    "    plt.hist(sampl,bins=30) \n",
    "    plt.title(\"histogram\") \n",
    "    plt.show()\n",
    "    \n",
    "    \n",
    "x = widgets.FloatLogSlider(\n",
    "    value=10,\n",
    "    min=0,\n",
    "    max=6,\n",
    "    base=10,\n",
    "    description='x',\n",
    "    disabled=False,\n",
    "    continuous_update=False,\n",
    "    orientation='horizontal',\n",
    "    readout=True,\n",
    "    readout_format='d',\n",
    "    style={'description_width': 'initial'}\n",
    ")\n",
    "\n",
    "size = widgets.FloatLogSlider(\n",
    "    value=10,\n",
    "    min=0,\n",
    "    max=6,\n",
    "    base=10,\n",
    "    description='size',\n",
    "    disabled=False,\n",
    "    continuous_update=False,\n",
    "    orientation='horizontal',\n",
    "    readout=True,\n",
    "    readout_format='d',\n",
    "    style={'description_width': 'initial'}\n",
    ")\n",
    "\n",
    "\n"
   ]
  },
  {
   "cell_type": "code",
   "execution_count": 48,
   "id": "1912197d",
   "metadata": {},
   "outputs": [
    {
     "data": {
      "application/vnd.jupyter.widget-view+json": {
       "model_id": "e9543b03146a4354972ff72500fd4c5f",
       "version_major": 2,
       "version_minor": 0
      },
      "text/plain": [
       "interactive(children=(FloatLogSlider(value=125892.54117941661, continuous_update=False, description='x', max=6…"
      ]
     },
     "metadata": {},
     "output_type": "display_data"
    }
   ],
   "source": [
    "interactive_plot = interactive(create_pareto,x=x,y=size)\n",
    "interactive_plot"
   ]
  },
  {
   "cell_type": "code",
   "execution_count": null,
   "id": "78d16f19",
   "metadata": {},
   "outputs": [],
   "source": []
  },
  {
   "cell_type": "code",
   "execution_count": null,
   "id": "4a7d211c",
   "metadata": {},
   "outputs": [],
   "source": []
  },
  {
   "cell_type": "code",
   "execution_count": null,
   "id": "95cd4324",
   "metadata": {},
   "outputs": [],
   "source": []
  },
  {
   "cell_type": "code",
   "execution_count": null,
   "id": "637b11dc",
   "metadata": {},
   "outputs": [],
   "source": []
  },
  {
   "cell_type": "code",
   "execution_count": null,
   "id": "ece688a3",
   "metadata": {},
   "outputs": [],
   "source": []
  },
  {
   "cell_type": "code",
   "execution_count": null,
   "id": "f0c631ba",
   "metadata": {},
   "outputs": [],
   "source": []
  }
 ],
 "metadata": {
  "kernelspec": {
   "display_name": "Python 3 (ipykernel)",
   "language": "python",
   "name": "python3"
  },
  "language_info": {
   "codemirror_mode": {
    "name": "ipython",
    "version": 3
   },
   "file_extension": ".py",
   "mimetype": "text/x-python",
   "name": "python",
   "nbconvert_exporter": "python",
   "pygments_lexer": "ipython3",
   "version": "3.7.11"
  }
 },
 "nbformat": 4,
 "nbformat_minor": 5
}
